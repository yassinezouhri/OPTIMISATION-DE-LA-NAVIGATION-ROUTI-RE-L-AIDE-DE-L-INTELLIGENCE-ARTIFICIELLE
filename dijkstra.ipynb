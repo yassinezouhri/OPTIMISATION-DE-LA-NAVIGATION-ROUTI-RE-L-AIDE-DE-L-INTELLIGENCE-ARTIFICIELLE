{
 "cells": [
  {
   "cell_type": "markdown",
   "metadata": {},
   "source": [
    "DIJKSTRA"
   ]
  },
  {
   "cell_type": "code",
   "execution_count": 17,
   "metadata": {},
   "outputs": [],
   "source": [
    "import numpy as np\n",
    "import random"
   ]
  },
  {
   "cell_type": "code",
   "execution_count": 18,
   "metadata": {},
   "outputs": [],
   "source": [
    "def plus_court(dist , visités):\n",
    "    #initialisation\n",
    "    min_dist=np.inf\n",
    "    min_indice=-1\n",
    "\n",
    "    for i in range(len(dist)):\n",
    "        if not visités[i] and dist[i]<min_dist:\n",
    "            min_dist=dist[i]\n",
    "            min_indice=i\n",
    "\n",
    "    return min_indice"
   ]
  },
  {
   "cell_type": "code",
   "execution_count": 19,
   "metadata": {},
   "outputs": [],
   "source": [
    "def Dijkstra(adj , s):\n",
    "\n",
    "    n=len(adj)\n",
    "    dist=[np.inf]*n\n",
    "    père=[None]*n\n",
    "    visités=[False]*n\n",
    "\n",
    "    dist[s]=0\n",
    "    père[s]=-1\n",
    "\n",
    "    while True :\n",
    "        u=plus_court(dist,visités)\n",
    "        if u==-1:\n",
    "            break\n",
    "        visités[u]=True\n",
    "\n",
    "        for v in range(n):\n",
    "            if not visités[v] and adj[u][v]!=0 and dist[u] + adj[u][v]<dist[v]:\n",
    "                dist[v]=dist[u]+adj[u][v]\n",
    "                père[v]=u\n",
    "\n",
    "                \n",
    "    return dist , père"
   ]
  },
  {
   "cell_type": "code",
   "execution_count": 63,
   "metadata": {},
   "outputs": [
    {
     "name": "stdout",
     "output_type": "stream",
     "text": [
      "[3, 5, 9, 0, 8, 8, 7, 6] [3, 0, 4, -1, 6, 1, 7, 3]\n"
     ]
    }
   ],
   "source": [
    "adj_matrix = [\n",
    "    [0, 2, 0, 3, 0, 0, 0, 0],\n",
    "    [2, 0, 6, 0, 0, 3, 3, 0],\n",
    "    [0, 6, 0, 0, 1, 1, 0, 0],\n",
    "    [3, 0, 0, 0, 0, 0, 0, 6],\n",
    "    [0, 0, 1, 0, 0, 0, 1, 0],\n",
    "    [0, 3, 1, 0, 0, 0, 0, 4],\n",
    "    [0, 3, 0, 0, 1, 0, 0, 1],\n",
    "    [0, 0, 0, 6, 0, 4, 1, 0]\n",
    "]\n",
    "\n",
    "s= 3\n",
    "distances, parents = Dijkstra(adj_matrix, s)\n",
    "print(distances,parents)"
   ]
  },
  {
   "cell_type": "code",
   "execution_count": 61,
   "metadata": {},
   "outputs": [],
   "source": [
    "def get_shortest_paths(parents):\n",
    "    shortest_paths=[]\n",
    "    for i in range(0, len(parents)):\n",
    "        shortest_path_to_i=[i]\n",
    "        while parents[i]!=-1:\n",
    "            shortest_path_to_i.append(parents[i])\n",
    "            i=parents[i]\n",
    "        shortest_path_to_i.reverse()\n",
    "        shortest_paths.append(shortest_path_to_i)\n",
    "    return shortest_paths"
   ]
  },
  {
   "cell_type": "code",
   "execution_count": 64,
   "metadata": {},
   "outputs": [
    {
     "data": {
      "text/plain": [
       "[[3, 0],\n",
       " [3, 0, 1],\n",
       " [3, 7, 6, 4, 2],\n",
       " [3],\n",
       " [3, 7, 6, 4],\n",
       " [3, 0, 1, 5],\n",
       " [3, 7, 6],\n",
       " [3, 7]]"
      ]
     },
     "execution_count": 64,
     "metadata": {},
     "output_type": "execute_result"
    }
   ],
   "source": [
    "get_shortest_paths(parents)"
   ]
  },
  {
   "cell_type": "markdown",
   "metadata": {},
   "source": [
    "![dijkstra_animation](dijkstra_animation.png)"
   ]
  },
  {
   "cell_type": "markdown",
   "metadata": {},
   "source": [
    "DIJKSTRA dynamique"
   ]
  },
  {
   "cell_type": "markdown",
   "metadata": {},
   "source": [
    "let us try to implement the dijkstra algorithm in a dynamic graph case \n",
    "we have seen that it's only possible in the case of 'un graphe dynamique par intervalles FIFO' , where the problem is not 'NP difficile'\n",
    "first of all , the input will be 'un graphe déterministe statique FIFO' , that will be transformed to 'un graphe dynamique par intervalles FIFO'\n",
    "\n",
    "once this inisialisation is done , we'll calculate the weight(pondération) according to the probability law that it follows \n",
    "with the ponderation known , we can now execute de classic Dijkstra , and we'll have our minimum cost path \n",
    "\n",
    "\n",
    "we have to mention that a fifo static graph , when transformed , will give a fifo dynamic graph\n"
   ]
  },
  {
   "cell_type": "code",
   "execution_count": 23,
   "metadata": {},
   "outputs": [],
   "source": [
    "def transformateur_to_dynamic_graph(G):\n",
    "    dynamic_ponderations=[]\n",
    "    for i in range(len(G)):\n",
    "        row=[]\n",
    "        for j in range(len(G[0])):\n",
    "            if G[i][j]!=0:\n",
    "                row.append([G[i][j]-0.5,G[i][j]+0.5])#assert that the given graph weights are all greater than 1\n",
    "            else:\n",
    "                row.append(0)\n",
    "        dynamic_ponderations.append(row)\n",
    "\n",
    "    #dynamic_ponderations = np.array(dynamic_ponderations)\n",
    "    #dynamic_ponderations.reshape(len(G),len(G[0]),2)\n",
    "\n",
    "    return dynamic_ponderations"
   ]
  },
  {
   "cell_type": "code",
   "execution_count": 24,
   "metadata": {},
   "outputs": [
    {
     "data": {
      "text/plain": [
       "[[0, [1.5, 2.5], 0, [2.5, 3.5], 0, 0, 0, 0],\n",
       " [[1.5, 2.5], 0, [5.5, 6.5], 0, 0, [2.5, 3.5], [2.5, 3.5], 0],\n",
       " [0, [5.5, 6.5], 0, 0, [0.5, 1.5], [0.5, 1.5], 0, 0],\n",
       " [[2.5, 3.5], 0, 0, 0, 0, 0, 0, [5.5, 6.5]],\n",
       " [0, 0, [0.5, 1.5], 0, 0, 0, [0.5, 1.5], 0],\n",
       " [0, [2.5, 3.5], [0.5, 1.5], 0, 0, 0, 0, [3.5, 4.5]],\n",
       " [0, [2.5, 3.5], 0, 0, [0.5, 1.5], 0, 0, [0.5, 1.5]],\n",
       " [0, 0, 0, [5.5, 6.5], 0, [3.5, 4.5], [0.5, 1.5], 0]]"
      ]
     },
     "execution_count": 24,
     "metadata": {},
     "output_type": "execute_result"
    }
   ],
   "source": [
    "G = [\n",
    "    [0, 2, 0, 3, 0, 0, 0, 0],\n",
    "    [2, 0, 6, 0, 0, 3, 3, 0],\n",
    "    [0, 6, 0, 0, 1, 1, 0, 0],\n",
    "    [3, 0, 0, 0, 0, 0, 0, 6],\n",
    "    [0, 0, 1, 0, 0, 0, 1, 0],\n",
    "    [0, 3, 1, 0, 0, 0, 0, 4],\n",
    "    [0, 3, 0, 0, 1, 0, 0, 1],\n",
    "    [0, 0, 0, 6, 0, 4, 1, 0]\n",
    "]\n",
    "transformateur_to_dynamic_graph(G)"
   ]
  },
  {
   "cell_type": "code",
   "execution_count": 50,
   "metadata": {},
   "outputs": [
    {
     "name": "stdout",
     "output_type": "stream",
     "text": [
      "t0: [[0, 1], [0, 1, 5, 2], [0, 3], [0, 1, 6, 4], [0, 1, 5], [0, 1, 6], [0, 1, 6, 7]]\n",
      "t44: [[0, 1], [0, 1, 6, 4, 2], [0, 3], [0, 1, 6, 4], [0, 1, 5], [0, 1, 6], [0, 1, 6, 7]]\n",
      "t45: [[0, 1], [0, 1, 5, 2], [0, 3], [0, 1, 6, 4], [0, 1, 5], [0, 1, 6], [0, 1, 6, 7]]\n",
      "t51: [[0, 1], [0, 1, 5, 2], [0, 3], [0, 1, 6, 4], [0, 1, 5], [0, 1, 6], [0, 1, 5, 7]]\n",
      "t55: [[0, 1], [0, 1, 5, 2], [0, 3], [0, 1, 5, 2, 4], [0, 1, 5], [0, 1, 6], [0, 1, 5, 7]]\n",
      "t57: [[0, 1], [0, 1, 5, 2], [0, 3], [0, 1, 6, 4], [0, 1, 5], [0, 1, 6], [0, 1, 5, 7]]\n",
      "t58: [[0, 1], [0, 1, 5, 2], [0, 3], [0, 1, 5, 2, 4], [0, 1, 5], [0, 1, 6], [0, 1, 5, 7]]\n",
      "t88: [[0, 1], [0, 1, 5, 2], [0, 3], [0, 1, 5, 2, 4], [0, 1, 5], [0, 1, 5, 2, 4, 6], [0, 1, 5, 7]]\n",
      "t90: [[0, 1], [0, 1, 5, 2], [0, 3], [0, 1, 5, 2, 4], [0, 1, 5], [0, 1, 6], [0, 1, 5, 7]]\n"
     ]
    }
   ],
   "source": [
    "def dijkstra_dynamic(G, s, alfa, nb_iterations=100):\n",
    "    G_dynamic = transformateur_to_dynamic_graph(G)\n",
    "    num_nodes = len(G_dynamic)\n",
    "    results = []\n",
    "\n",
    "    for _ in range(nb_iterations):\n",
    "        pondérations_dinamiques = np.zeros((num_nodes, num_nodes))\n",
    "        \n",
    "        \n",
    "        for j in range(num_nodes):\n",
    "            for k in range(len(G_dynamic[j])):\n",
    "                \n",
    "                if G_dynamic[j][k] != 0:\n",
    "                    fluctuation = random.uniform(-0.9, 0.9)\n",
    "                    G_dynamic[j][k][0] += fluctuation\n",
    "                    G_dynamic[j][k][1] -= fluctuation\n",
    "                    pondérations_dinamiques[j][k] = G_dynamic[j][k][0] + (G_dynamic[j][k][1] - G_dynamic[j][k][0]) * alfa  # loi équiprobable\n",
    "        #print('pondérations_dinamiques',pondérations_dinamiques)\n",
    "        dist, parents = Dijkstra(pondérations_dinamiques, s)\n",
    "        paths = get_shortest_paths(parents)\n",
    "        results.append(paths)\n",
    "    \n",
    "    return results\n",
    "\n",
    "# Example graph (weighted adjacency matrix)\n",
    "G = [\n",
    "    [0, 2, 0, 3, 0, 0, 0, 0],\n",
    "    [2, 0, 6, 0, 0, 3, 3, 0],\n",
    "    [0, 6, 0, 0, 1, 1, 0, 0],\n",
    "    [3, 0, 0, 0, 0, 0, 0, 6],\n",
    "    [0, 0, 1, 0, 0, 0, 1, 0],\n",
    "    [0, 3, 1, 0, 0, 0, 0, 4],\n",
    "    [0, 3, 0, 0, 1, 0, 0, 1],\n",
    "    [0, 0, 0, 6, 0, 4, 1, 0]\n",
    "]\n",
    "s = 0\n",
    "alfa = 0.6\n",
    "results = dijkstra_dynamic(G, s, alfa)\n",
    "for iteration, paths in enumerate(results):\n",
    "    if results[iteration]!=results[iteration-1]:\n",
    "        print(f\"t{iteration}: {paths}\")\n"
   ]
  }
 ],
 "metadata": {
  "kernelspec": {
   "display_name": "base",
   "language": "python",
   "name": "python3"
  },
  "language_info": {
   "codemirror_mode": {
    "name": "ipython",
    "version": 3
   },
   "file_extension": ".py",
   "mimetype": "text/x-python",
   "name": "python",
   "nbconvert_exporter": "python",
   "pygments_lexer": "ipython3",
   "version": "3.11.7"
  }
 },
 "nbformat": 4,
 "nbformat_minor": 2
}
